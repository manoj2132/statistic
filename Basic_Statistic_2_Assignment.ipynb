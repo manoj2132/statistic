{
  "nbformat": 4,
  "nbformat_minor": 0,
  "metadata": {
    "colab": {
      "provenance": []
    },
    "kernelspec": {
      "name": "python3",
      "display_name": "Python 3"
    },
    "language_info": {
      "name": "python"
    }
  },
  "cells": [
    {
      "cell_type": "code",
      "source": [
        "# a.Build 99% Confidence Interval Using Sample Standard Deviation a. Build 99% Confidence Interval Using Sample Standard Deviation\n",
        "\n",
        "#sample size (n)= 15\n",
        "#sample data = 1.13, 1.55, 1.43, 0.92, 1.25, 1.36, 1.32, 0.85, 1.07, 1.48, 1.20, 1.33, 1.18, 1.22, 1.29\n",
        "#Confidence level: 99%"
      ],
      "metadata": {
        "id": "-OI4kMER7I7K"
      },
      "execution_count": 1,
      "outputs": []
    },
    {
      "cell_type": "code",
      "execution_count": 2,
      "metadata": {
        "colab": {
          "base_uri": "https://localhost:8080/"
        },
        "id": "DASSYzFm25l1",
        "outputId": "11c10be3-28b6-4a99-81e1-8cc74ac7dae8"
      },
      "outputs": [
        {
          "output_type": "stream",
          "name": "stdout",
          "text": [
            "[1.13 1.55 1.43 0.92 1.25 1.36 1.32 0.85 1.07 1.48 1.2  1.33 1.18 1.22\n",
            " 1.29]\n"
          ]
        }
      ],
      "source": [
        "#Step:1 -identify given data .\n",
        "\n",
        "import numpy as np\n",
        "x=np.array([1.13, 1.55, 1.43, 0.92, 1.25, 1.36, 1.32, 0.85, 1.07, 1.48, 1.20, 1.33, 1.18, 1.22, 1.29])\n",
        "\n",
        "print(x)"
      ]
    },
    {
      "cell_type": "code",
      "source": [
        "#step:2\n",
        "y=x.mean()\n",
        "\n",
        "z=x.std()\n",
        "\n",
        "print(y,z)"
      ],
      "metadata": {
        "colab": {
          "base_uri": "https://localhost:8080/"
        },
        "id": "FeYygs_U4y81",
        "outputId": "8248b3df-e6e8-4f80-bc71-bae9697fe3af"
      },
      "execution_count": 3,
      "outputs": [
        {
          "output_type": "stream",
          "name": "stdout",
          "text": [
            "1.2386666666666666 0.18661427836285438\n"
          ]
        }
      ]
    },
    {
      "cell_type": "code",
      "source": [
        "# Step 3: Determine the critical t-value\n",
        "\n",
        "from scipy.stats import t\n",
        "\n",
        "# Parameters\n",
        "n=len(x)\n",
        "confidence_level = 0.99\n",
        "degrees_of_freedom = n-1\n",
        "alpha = 1 - confidence_level\n",
        "alpha_div_2 = alpha / 2\n",
        "\n",
        "# Find the critical t-value\n",
        "t_critical = t.ppf(1 - alpha_div_2, degrees_of_freedom)\n",
        "\n",
        "print(f\"Critical t-value for a {confidence_level*100}% confidence interval with {degrees_of_freedom} degrees of freedom: {t_critical:.3f}\")\n",
        "#By taking note of the additional uncertainty and variability in the sample data,\n",
        "#the t-distribution can help produce more accurate estimates of confidence intervals and test statistics\n",
        "#when working with small sample sizes or unknown population standard deviations.\n",
        "\n"
      ],
      "metadata": {
        "colab": {
          "base_uri": "https://localhost:8080/"
        },
        "id": "3_-bYpYs49vy",
        "outputId": "dbcaa37f-0b30-4182-a744-f0e43b7d290e"
      },
      "execution_count": 4,
      "outputs": [
        {
          "output_type": "stream",
          "name": "stdout",
          "text": [
            "Critical t-value for a 99.0% confidence interval with 14 degrees of freedom: 2.977\n"
          ]
        }
      ]
    },
    {
      "cell_type": "code",
      "source": [
        "# b. Build 99% Confidence Interval Using Known Population Standard Deviation\n",
        "# If it were known that the population standard deviation is 0.2 million characters,\n",
        "#construct a 99% confidence interval for the mean number of characters printed before failure.\n",
        "#Sample data: Durability of 15 print-heads in millions of characters.\n",
        "#Known Population Standard Deviation (σ): 0.2 million characters.\n",
        "#Sample size (n): 15\n",
        "#Confidence Level: 99%\n"
      ],
      "metadata": {
        "id": "VuXP9V7N6MwI"
      },
      "execution_count": 5,
      "outputs": []
    },
    {
      "cell_type": "code",
      "source": [
        "#step:1 Calculate the sample mean\n",
        "import numpy as np\n",
        "import statistics\n",
        "x=np.array([1.13,1.55,1.43,0.92,1.25,1.36,1.32,0.85,1.07,1.48,1.2 ,1.33, 1.18,1.22,1.29])\n",
        "sample_mean=x.mean()\n",
        "print(sample_mean)"
      ],
      "metadata": {
        "colab": {
          "base_uri": "https://localhost:8080/"
        },
        "id": "kdKHq00uZI67",
        "outputId": "27a2a97c-ae41-4d0b-f5a9-ccbd7af0e078"
      },
      "execution_count": 6,
      "outputs": [
        {
          "output_type": "stream",
          "name": "stdout",
          "text": [
            "1.2386666666666666\n"
          ]
        }
      ]
    },
    {
      "cell_type": "code",
      "source": [
        "#step:2=Determine the Critical Z-Value:\n",
        "from scipy.stats import norm\n",
        "\n",
        "#confidence level\n",
        "confidence_level=0.99\n",
        "alpha=1-confidence_level\n",
        "alpha_div_2=alpha/2\n",
        "\n",
        "#find the critical z-value\n",
        "z_critical = norm.ppf(1 - alpha_div_2)\n",
        "print(z_critical)"
      ],
      "metadata": {
        "colab": {
          "base_uri": "https://localhost:8080/"
        },
        "id": "aDknECHHZddf",
        "outputId": "c8c81fa0-8712-4b92-c623-9c78c26d0c28"
      },
      "execution_count": 7,
      "outputs": [
        {
          "output_type": "stream",
          "name": "stdout",
          "text": [
            "2.5758293035489004\n"
          ]
        }
      ]
    },
    {
      "cell_type": "code",
      "source": [
        "#calculate the mariginal of error\n",
        "#known population standard deviation\n",
        "sigma =0.2\n",
        "#sample size\n",
        "n=15\n",
        "\n",
        "#calculate the margin of error\n",
        "margin_of_error=z_critical*(sigma/np.sqrt(n))\n",
        "print(margin_of_error)"
      ],
      "metadata": {
        "colab": {
          "base_uri": "https://localhost:8080/"
        },
        "id": "LsbQ9rxabGAk",
        "outputId": "0331ffca-af04-4ec2-bdc0-a78a65e81b4a"
      },
      "execution_count": 8,
      "outputs": [
        {
          "output_type": "stream",
          "name": "stdout",
          "text": [
            "0.13301525327090588\n"
          ]
        }
      ]
    },
    {
      "cell_type": "code",
      "source": [
        "#construct the confidence interval\n",
        "lower_bound = sample_mean - margin_of_error\n",
        "upper_bound = sample_mean + margin_of_error\n",
        "\n",
        "print('lower bound is',lower_bound , 'upper bound is',upper_bound)"
      ],
      "metadata": {
        "colab": {
          "base_uri": "https://localhost:8080/"
        },
        "id": "6uslCZ53bnwF",
        "outputId": "4489fb42-4eb9-4a75-907e-c07acbca25ca"
      },
      "execution_count": 9,
      "outputs": [
        {
          "output_type": "stream",
          "name": "stdout",
          "text": [
            "lower bound is 1.1056514133957607 upper bound is 1.3716819199375725\n"
          ]
        }
      ]
    },
    {
      "cell_type": "code",
      "source": [
        "#when the population standard deviation is unknown and the sample size is small,\n",
        "#using the t-distribution (Scenario A) provides a more accurate and conservative estimate of the confidence interval.\n",
        "#If the population standard deviation is known (Scenario B), the z-distribution can be used for a more straightforward calculation,\n",
        "#potentially resulting in a narrower confidence interval.\n"
      ],
      "metadata": {
        "id": "VfVkNGtbcSU6"
      },
      "execution_count": 10,
      "outputs": []
    }
  ]
}